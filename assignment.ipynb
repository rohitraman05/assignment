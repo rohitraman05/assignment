{
 "cells": [
  {
   "cell_type": "code",
   "execution_count": 1,
   "id": "8dbf3f9b-b91e-4d6f-8bbb-9d21e64603d5",
   "metadata": {},
   "outputs": [],
   "source": [
    "import pandas as pd"
   ]
  },
  {
   "cell_type": "code",
   "execution_count": 2,
   "id": "f286a404-6431-4f91-9e83-1442bea0cdde",
   "metadata": {},
   "outputs": [],
   "source": [
    "import sqlite3"
   ]
  },
  {
   "cell_type": "code",
   "execution_count": 3,
   "id": "9c7d9e68-4098-4118-b881-23db9e8ca9d4",
   "metadata": {},
   "outputs": [],
   "source": [
    "conn = sqlite3.connect(\"sales.db\")"
   ]
  },
  {
   "cell_type": "code",
   "execution_count": null,
   "id": "2b2eed97-4105-4ecf-a616-b090e7845a3d",
   "metadata": {},
   "outputs": [],
   "source": [
    "sql_query = \"\"\"\n",
    "SELECT \n",
    "    c.CustomerID AS Customer,\n",
    "    c.Age,\n",
    "    i.ItemName AS Item,\n",
    "    SUM(s.Quantity) AS Quantity\n",
    "FROM Sales s\n",
    "JOIN Customers c ON s.CustomerID = c.CustomerID\n",
    "JOIN Items i ON s.ItemID = i.ItemID\n",
    "WHERE c.Age BETWEEN 18 AND 35\n",
    "  AND s.Quantity IS NOT NULL\n",
    "GROUP BY c.CustomerID, c.Age, i.ItemName\n",
    "HAVING SUM(s.Quantity) > 0\n",
    "ORDER BY c.CustomerID;\n",
    "\"\"\"\n",
    "df_sql = pd.read_sql_query(sql_query, conn)   #running query and loading dataframe\n",
    "\n",
    "df_sql.to_csv(\"output.csv\", sep = \";\", index=False)    #to csv"
   ]
  },
  {
   "cell_type": "code",
   "execution_count": null,
   "id": "4a111b9b-e4d4-476c-9ad8-1e79e0df74c9",
   "metadata": {},
   "outputs": [],
   "source": [
    "# Load tables into Pandas\n",
    "customers = pd.read_sql_query(\"SELECT * FROM Customers;\", conn)\n",
    "items = pd.read_sql_query(\"SELECT * FROM Items;\", conn)\n",
    "sales = pd.read_sql_query(\"SELECT * FROM Sales;\", conn)\n",
    "\n",
    "# Merge tables\n",
    "merged = sales.merge(customers, on=\"CustomerID\").merge(items, on=\"ItemID\")\n",
    "\n",
    "# Filter by age 18–35\n",
    "filtered = merged[(merged[\"Age\"] >= 18) & (merged[\"Age\"] <= 35)]\n",
    "\n",
    "# Replace NULL quantities with 0\n",
    "filtered[\"Quantity\"] = filtered[\"Quantity\"].fillna(0)\n",
    "\n",
    "# Group and sum\n",
    "df_pandas = (\n",
    "    filtered.groupby([\"CustomerID\", \"Age\", \"ItemName\"], as_index=False)[\"Quantity\"]\n",
    "    .sum()\n",
    ")\n",
    "\n",
    "# Exclude rows with 0 quantity\n",
    "df_pandas = df_pandas[df_pandas[\"Quantity\"] > 0]\n",
    "\n",
    "# Rename columns for consistency\n",
    "df_pandas.rename(columns={\n",
    "    \"CustomerID\": \"Customer\",\n",
    "    \"ItemName\": \"Item\"\n",
    "}, inplace=True)\n",
    "\n",
    "# Save to CSV\n",
    "df_pandas.to_csv(\"output_pandas.csv\", sep=\";\", index=False)"
   ]
  }
 ],
 "metadata": {
  "kernelspec": {
   "display_name": "Python 3 (ipykernel)",
   "language": "python",
   "name": "python3"
  },
  "language_info": {
   "codemirror_mode": {
    "name": "ipython",
    "version": 3
   },
   "file_extension": ".py",
   "mimetype": "text/x-python",
   "name": "python",
   "nbconvert_exporter": "python",
   "pygments_lexer": "ipython3",
   "version": "3.12.4"
  }
 },
 "nbformat": 4,
 "nbformat_minor": 5
}
